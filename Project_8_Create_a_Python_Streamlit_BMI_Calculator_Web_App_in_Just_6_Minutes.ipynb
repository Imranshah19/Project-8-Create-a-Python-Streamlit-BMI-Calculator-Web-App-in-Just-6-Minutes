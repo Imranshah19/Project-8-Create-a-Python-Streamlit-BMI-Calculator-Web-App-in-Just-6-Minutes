{
  "nbformat": 4,
  "nbformat_minor": 0,
  "metadata": {
    "colab": {
      "provenance": [],
      "authorship_tag": "ABX9TyMdnhL698pBGobnehOo7MXQ",
      "include_colab_link": true
    },
    "kernelspec": {
      "name": "python3",
      "display_name": "Python 3"
    },
    "language_info": {
      "name": "python"
    }
  },
  "cells": [
    {
      "cell_type": "markdown",
      "metadata": {
        "id": "view-in-github",
        "colab_type": "text"
      },
      "source": [
        "<a href=\"https://colab.research.google.com/github/Imranshah19/Project-8-Create-a-Python-Streamlit-BMI-Calculator-Web-App-in-Just-6-Minutes/blob/main/Project_8_Create_a_Python_Streamlit_BMI_Calculator_Web_App_in_Just_6_Minutes.ipynb\" target=\"_parent\"><img src=\"https://colab.research.google.com/assets/colab-badge.svg\" alt=\"Open In Colab\"/></a>"
      ]
    },
    {
      "cell_type": "code",
      "execution_count": null,
      "metadata": {
        "id": "j0X0FsK3caR_"
      },
      "outputs": [],
      "source": [
        "import streamlit as st\n",
        "\n",
        "def calculate_bmi(weight, height):\n",
        "    \"\"\"Calculate BMI using the formula: BMI = weight (kg) / height² (m²)\"\"\"\n",
        "    return weight / (height ** 2)\n",
        "\n",
        "# Streamlit App UI\n",
        "st.title(\"🏋️‍♂️ BMI Calculator\")\n",
        "st.write(\"Calculate your Body Mass Index (BMI)\")\n",
        "\n",
        "# User Inputs\n",
        "weight = st.number_input(\"Enter your weight (kg):\", min_value=1.0, step=0.1)\n",
        "height = st.number_input(\"Enter your height (m):\", min_value=0.5, step=0.01)\n",
        "\n",
        "if st.button(\"Calculate BMI\"):\n",
        "    if weight > 0 and height > 0:\n",
        "        bmi = calculate_bmi(weight, height)\n",
        "        st.success(f\"Your BMI is: {bmi:.2f}\")\n",
        "\n",
        "        # BMI Categories\n",
        "        if bmi < 18.5:\n",
        "            st.warning(\"🔸 Underweight\")\n",
        "        elif 18.5 <= bmi < 24.9:\n",
        "            st.success(\"✅ Normal weight\")\n",
        "        elif 25 <= bmi < 29.9:\n",
        "            st.warning(\"⚠️ Overweight\")\n",
        "        else:\n",
        "            st.error(\"❌ Obesity\")\n",
        "    else:\n",
        "        st.error(\"Please enter valid values for weight and height!\")\n"
      ]
    }
  ]
}